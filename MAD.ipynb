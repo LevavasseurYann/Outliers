{
 "cells": [
  {
   "cell_type": "code",
   "execution_count": 2,
   "metadata": {},
   "outputs": [
    {
     "data": {
      "image/png": "[encoded data removed]",
      "text/plain": [
       "<Figure size 432x288 with 1 Axes>"
      ]
     },
     "metadata": {
      "needs_background": "light"
     },
     "output_type": "display_data"
    }
   ],
   "source": [
    "import numpy as np\n",
    "import matplotlib.pyplot as plt\n",
    "\n",
    "# on initialise un seuil\n",
    "threshold = 5\n",
    "\n",
    "# On initialise une liste de 30 points entre 200 et 230\n",
    "points = np.random.uniform(200, 230, 30)\n",
    "\n",
    "# on insère des outliers aux indices 5, 12 et 20 deux plus bas et un plus grand\n",
    "points[5] = 130\n",
    "points[12] = 96\n",
    "points[20] = 312\n",
    "\n",
    "# Methode de l'écart moyen absolu\n",
    "def median_absolute_deviation(points):   \n",
    "    median = np.median(points)\n",
    "    median_removed = np.abs(points - median)\n",
    "    median_deviation = np.median(median_removed)\n",
    "    return list(median_removed / median_deviation)\n",
    "\n",
    "statistic = median_absolute_deviation(points)\n",
    "\n",
    "# on récupère les indices de points où les \"outliers\" dépassent le seuil fixé\n",
    "outliers = []\n",
    "for i in range(len(statistic)):\n",
    "    if statistic[i] > threshold:\n",
    "        outliers.append(i)\n",
    "\n",
    "plt.plot(statistic, '-gD', markevery=outliers, markerfacecolor='red', markeredgecolor = \"red\")\n",
    "plt.show()"
   ]
  },
  {
   "cell_type": "markdown",
   "metadata": {},
   "source": [
    "### Etapes de la méthodes median_absolute_deviation(points)"
   ]
  },
  {
   "cell_type": "markdown",
   "metadata": {},
   "source": [
    "On calcule la mediane de notre liste de points"
   ]
  },
  {
   "cell_type": "code",
   "execution_count": 3,
   "metadata": {},
   "outputs": [
    {
     "data": {
      "text/plain": [
       "218.55760595784193"
      ]
     },
     "execution_count": 3,
     "metadata": {},
     "output_type": "execute_result"
    }
   ],
   "source": [
    "median = np.median(points)\n",
    "median"
   ]
  },
  {
   "cell_type": "markdown",
   "metadata": {},
   "source": [
    "On recupère la valeur absolue de la soustraction de chaqu'un des points par notre médiane\n",
    "ça permet de gérer les valeurs au dessus comme en dessous de notre moyenne de référence "
   ]
  },
  {
   "cell_type": "code",
   "execution_count": 4,
   "metadata": {},
   "outputs": [
    {
     "data": {
      "text/plain": [
       "[0.73,\n",
       " 7.79,\n",
       " 9.1,\n",
       " 8.9,\n",
       " 0.16,\n",
       " 88.56,\n",
       " 10.3,\n",
       " 4.14,\n",
       " 1.14,\n",
       " 4.22,\n",
       " 15.13,\n",
       " 7.7,\n",
       " 122.56,\n",
       " 1.48,\n",
       " 17.44,\n",
       " 16.82,\n",
       " 3.33,\n",
       " 0.16,\n",
       " 10.42,\n",
       " 4.66,\n",
       " 93.44,\n",
       " 10.0,\n",
       " 8.15,\n",
       " 10.9,\n",
       " 0.43,\n",
       " 10.49,\n",
       " 6.73,\n",
       " 7.27,\n",
       " 11.52,\n",
       " 9.57]"
      ]
     },
     "execution_count": 4,
     "metadata": {},
     "output_type": "execute_result"
    }
   ],
   "source": [
    "median_removed = np.abs(points - median)\n",
    "[round(point, 2) for point in list(median_removed)]"
   ]
  },
  {
   "cell_type": "markdown",
   "metadata": {},
   "source": [
    "On peut déjà voir que la plupart des chiffres se trouvent entre 0 et 12 seul les outliers que l'on a déposés dépassent pour arriver entre 80 et 120"
   ]
  },
  {
   "cell_type": "markdown",
   "metadata": {},
   "source": [
    "Notre nouvelle mediane "
   ]
  },
  {
   "cell_type": "code",
   "execution_count": 5,
   "metadata": {},
   "outputs": [
    {
     "data": {
      "text/plain": [
       "8.526086462187223"
      ]
     },
     "execution_count": 5,
     "metadata": {},
     "output_type": "execute_result"
    }
   ],
   "source": [
    "median_deviation = np.median(median_removed)\n",
    "median_deviation"
   ]
  },
  {
   "cell_type": "markdown",
   "metadata": {},
   "source": [
    "Et on divise notre nouvelle mediane à chaque points "
   ]
  },
  {
   "cell_type": "code",
   "execution_count": 6,
   "metadata": {},
   "outputs": [
    {
     "data": {
      "text/plain": [
       "[0.09,\n",
       " 0.91,\n",
       " 1.07,\n",
       " 1.04,\n",
       " 0.02,\n",
       " 10.39,\n",
       " 1.21,\n",
       " 0.49,\n",
       " 0.13,\n",
       " 0.49,\n",
       " 1.77,\n",
       " 0.9,\n",
       " 14.37,\n",
       " 0.17,\n",
       " 2.05,\n",
       " 1.97,\n",
       " 0.39,\n",
       " 0.02,\n",
       " 1.22,\n",
       " 0.55,\n",
       " 10.96,\n",
       " 1.17,\n",
       " 0.96,\n",
       " 1.28,\n",
       " 0.05,\n",
       " 1.23,\n",
       " 0.79,\n",
       " 0.85,\n",
       " 1.35,\n",
       " 1.12]"
      ]
     },
     "execution_count": 6,
     "metadata": {},
     "output_type": "execute_result"
    }
   ],
   "source": [
    "[round(point, 2) for point in list(median_removed / median_deviation)]"
   ]
  },
  {
   "cell_type": "markdown",
   "metadata": {},
   "source": [
    "Nos valeurs limites resortent clairement, pour paramétrer le seuil il suffit de trouver la valeur que l'on juge limite dans une liste donnée et de voir quel seuil les discrimines"
   ]
  },
  {
   "cell_type": "markdown",
   "metadata": {},
   "source": [
    "Voici nos valeurs limites"
   ]
  },
  {
   "cell_type": "code",
   "execution_count": 7,
   "metadata": {},
   "outputs": [
    {
     "data": {
      "text/plain": [
       "[5, 12, 20]"
      ]
     },
     "execution_count": 7,
     "metadata": {},
     "output_type": "execute_result"
    }
   ],
   "source": [
    "threshold = 5\n",
    "outliers = []\n",
    "for i in range(len(statistic)):\n",
    "    if statistic[i] > threshold:\n",
    "        outliers.append(i)\n",
    "outliers"
   ]
  },
  {
   "cell_type": "markdown",
   "metadata": {},
   "source": [
    "Imaginons que en fait on veut être plus large mais 96 est une valeur quand même trop basse"
   ]
  },
  {
   "cell_type": "code",
   "execution_count": 8,
   "metadata": {},
   "outputs": [
    {
     "data": {
      "text/plain": [
       "[12]"
      ]
     },
     "execution_count": 8,
     "metadata": {},
     "output_type": "execute_result"
    }
   ],
   "source": [
    "threshold = 11\n",
    "outliers = []\n",
    "for i in range(len(statistic)):\n",
    "    if statistic[i] > threshold:\n",
    "        outliers.append(i)\n",
    "outliers"
   ]
  },
  {
   "cell_type": "code",
   "execution_count": null,
   "metadata": {},
   "outputs": [],
   "source": []
  }
 ],
 "metadata": {
  "kernelspec": {
   "display_name": "Python 3",
   "language": "python",
   "name": "python3"
  },
  "language_info": {
   "codemirror_mode": {
    "name": "ipython",
    "version": 3
   },
   "file_extension": ".py",
   "mimetype": "text/x-python",
   "name": "python",
   "nbconvert_exporter": "python",
   "pygments_lexer": "ipython3",
   "version": "3.7.3"
  }
 },
 "nbformat": 4,
 "nbformat_minor": 2
}
